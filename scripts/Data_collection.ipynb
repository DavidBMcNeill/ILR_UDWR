{
 "cells": [
  {
   "cell_type": "code",
   "execution_count": 7,
   "metadata": {},
   "outputs": [],
   "source": [
    "import requests"
   ]
  },
  {
   "cell_type": "code",
   "execution_count": 16,
   "metadata": {},
   "outputs": [],
   "source": [
    "url = \"https://www.courtlistener.com/api/rest/v3/search/?q=%22pierc*%20corporate%20veil%22~50&type=o&order_by=score%20desc&stat_Precedential=on&filed_after=09%2F29%2F2013\""
   ]
  },
  {
   "cell_type": "code",
   "execution_count": 17,
   "metadata": {},
   "outputs": [],
   "source": [
    "pcv_data = requests.get(url)"
   ]
  },
  {
   "cell_type": "code",
   "execution_count": 44,
   "metadata": {},
   "outputs": [],
   "source": [
    "pcv_json = pcv_data.json()"
   ]
  },
  {
   "cell_type": "code",
   "execution_count": 60,
   "metadata": {},
   "outputs": [
    {
     "data": {
      "text/plain": [
       "{'count': 2885,\n",
       " 'next': None,\n",
       " 'previous': 'https://www.courtlistener.com/api/rest/v3/search/?filed_after=09%2F29%2F2013&order_by=score+desc&page=144&q=%22pierc%2A+corporate+veil%22~50&stat_Precedential=on&type=o',\n",
       " 'results': [{'absolute_url': '/opinion/7327602/state-farm-mutual-automobile-insurance-co-v-performance-orthopaedics/',\n",
       "   'attorney': 'Bradley Scott McPherson, Stacey Cole Ibarra, David Ira Spector, Akerman LLP, West Palm Beach, FL, for Plaintiff., Peter Ronai Goldman, Christina P. Lehm, Lester Jerome Perling, Scott Douglas Knapp, Broad and Cassel LLP, Michael Patrick Hamaway, Jason Ari Smith, Mombach, Boyle, Hardin <& Simmons, P.A., Fort Lauderdale, FL, Andrew Brian Albritton, Rhett Conlon Parker, Sharon Carlstedt Britton, Phelps Dunbar LLP, Jason Paul Stearns, Lawrence Phillip Ingram, Freeborn & Peters LLP, Tampa, FL, Lorelei Jane Van Wey, Martin B. Goldberg, Nicholas Andrew Ortiz, Lash & Goldberg, Ryan K, Stumphauzer, Christopher Ellis Gottfried, Jeffrey Henry Slo-man, Stumphauzer & Sloman, PLLC, Kevin Patrick Jacobs, Homer Bonner Jacobs, P.A., Miami, FL, for Defendants.',\n",
       "   'author_id': None,\n",
       "   'caseName': 'State Farm Mutual Automobile Insurance Co. v. Performance Orthopaedics & Neurosurgery, LLC',\n",
       "   'caseNameShort': '',\n",
       "   'citation': ['278 F. Supp. 3d 1307'],\n",
       "   'citeCount': 1,\n",
       "   'cites': None,\n",
       "   'cluster_id': 7327602,\n",
       "   'court': 'District Court, S.D. Florida',\n",
       "   'court_citation_string': 'S.D. Fla.',\n",
       "   'court_exact': 'flsd',\n",
       "   'court_id': 'flsd',\n",
       "   'dateArgued': None,\n",
       "   'dateFiled': '2017-09-25T00:00:00-07:00',\n",
       "   'dateReargued': None,\n",
       "   'dateReargumentDenied': None,\n",
       "   'docketNumber': 'Case No. 1:17-CV-20028-KMM',\n",
       "   'docket_id': 64316086,\n",
       "   'download_url': None,\n",
       "   'id': 7245518,\n",
       "   'joined_by_ids': None,\n",
       "   'judge': 'Moore',\n",
       "   'lexisCite': None,\n",
       "   'local_path': None,\n",
       "   'neutralCite': None,\n",
       "   'non_participating_judge_ids': None,\n",
       "   'pagerank': None,\n",
       "   'panel_ids': None,\n",
       "   'per_curiam': None,\n",
       "   'scdb_id': '',\n",
       "   'sibling_ids': [7245518],\n",
       "   'snippet': 'although not argued, the Court declines to <mark>pierce the corporate veil</mark> here. See Krinsk v. SunTrust Banks, Inc&hellip; (M.D. Fla. Jan. 8, 2010) (declining to <mark>pierce corporate veil</mark> where plaintiff has not plead facts supporting',\n",
       "   'source': 'U',\n",
       "   'status': 'Precedential',\n",
       "   'status_exact': 'Precedential',\n",
       "   'suitNature': '',\n",
       "   'timestamp': '2024-09-06T12:10:07.557999-07:00',\n",
       "   'type': '020lead'},\n",
       "  {'absolute_url': '/opinion/10119458/millsaps-v-hager/',\n",
       "   'attorney': '',\n",
       "   'author_id': None,\n",
       "   'caseName': 'Millsaps v. Hager',\n",
       "   'caseNameShort': 'Millsaps',\n",
       "   'citation': None,\n",
       "   'citeCount': 0,\n",
       "   'cites': [1304567, 1410050, 2726743, 3647530, 6716521, 8900920, 8901070],\n",
       "   'cluster_id': 10119458,\n",
       "   'court': 'Court of Appeals of North Carolina',\n",
       "   'court_citation_string': 'N.C. Ct. App.',\n",
       "   'court_exact': 'ncctapp',\n",
       "   'court_id': 'ncctapp',\n",
       "   'dateArgued': None,\n",
       "   'dateFiled': '2024-09-17T00:00:00-07:00',\n",
       "   'dateReargued': None,\n",
       "   'dateReargumentDenied': None,\n",
       "   'docketNumber': '23-1028',\n",
       "   'docket_id': 69167472,\n",
       "   'download_url': 'http://appellate.nccourts.org/opinions/?c=2&pdf=43632',\n",
       "   'id': 10586059,\n",
       "   'joined_by_ids': None,\n",
       "   'judge': '',\n",
       "   'lexisCite': None,\n",
       "   'local_path': 'pdf/2024/09/17/millsaps_v._hager.pdf',\n",
       "   'neutralCite': None,\n",
       "   'non_participating_judge_ids': None,\n",
       "   'pagerank': None,\n",
       "   'panel_ids': None,\n",
       "   'per_curiam': None,\n",
       "   'scdb_id': '',\n",
       "   'sibling_ids': [10586059],\n",
       "   'snippet': 'Millsaps also sought punitive damages and to <mark>pierce the corporate veil</mark>.\\n\\n      After defendants filed an answer',\n",
       "   'source': 'C',\n",
       "   'status': 'Precedential',\n",
       "   'status_exact': 'Precedential',\n",
       "   'suitNature': '',\n",
       "   'timestamp': '2024-09-17T05:32:41.179000-07:00',\n",
       "   'type': '010combined'},\n",
       "  {'absolute_url': '/opinion/10119940/constantine-k-v-lenox-instr-co/',\n",
       "   'attorney': '',\n",
       "   'author_id': 8247,\n",
       "   'caseName': 'Constantine, K. v. Lenox Instr. Co.',\n",
       "   'caseNameShort': '',\n",
       "   'citation': None,\n",
       "   'citeCount': 0,\n",
       "   'cites': [1436140,\n",
       "    1462093,\n",
       "    1469138,\n",
       "    1481259,\n",
       "    1500694,\n",
       "    1954745,\n",
       "    2107435,\n",
       "    2155597,\n",
       "    2159786,\n",
       "    2179974,\n",
       "    2181180,\n",
       "    2194634,\n",
       "    2263048,\n",
       "    2274178,\n",
       "    2286133,\n",
       "    2320344,\n",
       "    2332662,\n",
       "    2380360,\n",
       "    2794708,\n",
       "    3173714,\n",
       "    4274643,\n",
       "    4319954,\n",
       "    4963844,\n",
       "    4966189,\n",
       "    4969170,\n",
       "    6292490],\n",
       "   'cluster_id': 10119940,\n",
       "   'court': 'Superior Court of Pennsylvania',\n",
       "   'court_citation_string': 'Pa. Super. Ct.',\n",
       "   'court_exact': 'pasuperct',\n",
       "   'court_id': 'pasuperct',\n",
       "   'dateArgued': None,\n",
       "   'dateFiled': '2024-09-17T00:00:00-07:00',\n",
       "   'dateReargued': None,\n",
       "   'dateReargumentDenied': None,\n",
       "   'docketNumber': '2710 EDA 2022',\n",
       "   'docket_id': 69169802,\n",
       "   'download_url': 'https://www.pacourts.us/assets/opinions/Superior/out/J-A28024-23o - 106075386281417156.pdf',\n",
       "   'id': 10586541,\n",
       "   'joined_by_ids': None,\n",
       "   'judge': 'Stabile',\n",
       "   'lexisCite': None,\n",
       "   'local_path': 'pdf/2024/09/17/constantine_k._v._lenox_instr._co..pdf',\n",
       "   'neutralCite': None,\n",
       "   'non_participating_judge_ids': None,\n",
       "   'pagerank': None,\n",
       "   'panel_ids': None,\n",
       "   'per_curiam': None,\n",
       "   'scdb_id': '',\n",
       "   'sibling_ids': [10586541],\n",
       "   'snippet': 'relating to Constantine’s attempt\\n\\nto <mark>pierce the corporate veil</mark> between Esterline and Lenox.       The&hellip;made a\\n\\ndispositive ruling on the <mark>piercing</mark> of Esterline’s <mark>corporate veil</mark>. The time it took\\n\\nfor this Court',\n",
       "   'source': 'C',\n",
       "   'status': 'Precedential',\n",
       "   'status_exact': 'Precedential',\n",
       "   'suitNature': '',\n",
       "   'timestamp': '2024-09-17T13:36:33.396999-07:00',\n",
       "   'type': '010combined'},\n",
       "  {'absolute_url': '/opinion/10119941/constantine-k-v-lenox-instr-co/',\n",
       "   'attorney': '',\n",
       "   'author_id': 8247,\n",
       "   'caseName': 'Constantine, K. v. Lenox Instr. Co.',\n",
       "   'caseNameShort': '',\n",
       "   'citation': None,\n",
       "   'citeCount': 0,\n",
       "   'cites': [2058145, 4961166],\n",
       "   'cluster_id': 10119941,\n",
       "   'court': 'Superior Court of Pennsylvania',\n",
       "   'court_citation_string': 'Pa. Super. Ct.',\n",
       "   'court_exact': 'pasuperct',\n",
       "   'court_id': 'pasuperct',\n",
       "   'dateArgued': None,\n",
       "   'dateFiled': '2024-09-17T00:00:00-07:00',\n",
       "   'dateReargued': None,\n",
       "   'dateReargumentDenied': None,\n",
       "   'docketNumber': '2676 EDA 2022',\n",
       "   'docket_id': 69169803,\n",
       "   'download_url': 'https://www.pacourts.us/assets/opinions/Superior/out/J-A28023-23o - 106074655281334280.pdf',\n",
       "   'id': 10586542,\n",
       "   'joined_by_ids': None,\n",
       "   'judge': 'Stabile',\n",
       "   'lexisCite': None,\n",
       "   'local_path': 'pdf/2024/09/17/constantine_k._v._lenox_instr._co._1.pdf',\n",
       "   'neutralCite': None,\n",
       "   'non_participating_judge_ids': None,\n",
       "   'pagerank': None,\n",
       "   'panel_ids': None,\n",
       "   'per_curiam': None,\n",
       "   'scdb_id': '',\n",
       "   'sibling_ids': [10586542],\n",
       "   'snippet': '\\n“Constantine”), had attempted to <mark>pierce</mark> Esterline’s <mark>corporate veil</mark>, alleging\\n\\nthat it was liable for &hellip; was any evidence that would support <mark>piercing the\\n\\ncorporate veil</mark>, Esterline summarized its position as&hellip;Form, or\\n\\nRequesting this Court to <mark>Pierce</mark> Esterline’s <mark>Corporate Veil</mark>” (Corporate Veil\\n\\nMotion).   Esterline&hellip;structure,” and that all evidence that would <mark>pierce</mark> its\\n\\n<mark>corporate veil</mark> should be excluded from trial on admissibility&hellip;at 4-6. Constantine had not\\nsought to <mark>pierce the corporate veil</mark> on either of those grounds.\\n\\n                                           ',\n",
       "   'source': 'C',\n",
       "   'status': 'Precedential',\n",
       "   'status_exact': 'Precedential',\n",
       "   'suitNature': '',\n",
       "   'timestamp': '2024-09-17T13:32:56.862999-07:00',\n",
       "   'type': '010combined'},\n",
       "  {'absolute_url': '/opinion/6238964/curci-invs-llc-v-baldwin/',\n",
       "   'attorney': 'Brown Rudnick, Ronald Rus, Joel Miliband, Randall A. Smith and Justin S. Morgan, Irvine, for Plaintiff and Appellant., Broker & Associates and Jeffrey W. Broker, Irvine; Matthews Law Firm, Inc. and Arturo E. Matthews, Jr., Tustin, for Defendant and Respondent.',\n",
       "   'author_id': None,\n",
       "   'caseName': 'Curci Invs., LLC v. Baldwin',\n",
       "   'caseNameShort': 'Baldwin',\n",
       "   'citation': ['221 Cal. Rptr. 3d 847',\n",
       "    '14 Cal. App. 5th 214',\n",
       "    '2017 WL 3431457',\n",
       "    '2017 Cal. App. LEXIS 698'],\n",
       "   'citeCount': 8,\n",
       "   'cites': None,\n",
       "   'cluster_id': 6238964,\n",
       "   'court': 'California Court of Appeal, 5th District',\n",
       "   'court_citation_string': 'Cal. Ct. App. 5th',\n",
       "   'court_exact': 'calctapp5d',\n",
       "   'court_id': 'calctapp5d',\n",
       "   'dateArgued': None,\n",
       "   'dateFiled': '2017-08-10T00:00:00-07:00',\n",
       "   'dateReargued': None,\n",
       "   'dateReargumentDenied': None,\n",
       "   'docketNumber': 'G052764',\n",
       "   'docket_id': 62614249,\n",
       "   'download_url': None,\n",
       "   'id': 6105861,\n",
       "   'joined_by_ids': None,\n",
       "   'judge': 'Thompson',\n",
       "   'lexisCite': None,\n",
       "   'local_path': None,\n",
       "   'neutralCite': None,\n",
       "   'non_participating_judge_ids': None,\n",
       "   'pagerank': None,\n",
       "   'panel_ids': None,\n",
       "   'per_curiam': None,\n",
       "   'scdb_id': '',\n",
       "   'sibling_ids': [6105861],\n",
       "   'snippet': 'question presented is whether reverse <mark>piercing of the corporate veil</mark> may be applied under the circumstances&hellip; &quot;a third party creditor may not <mark>pierce the corporate veil</mark> to reach corporate assets to satisfy a',\n",
       "   'source': 'U',\n",
       "   'status': 'Precedential',\n",
       "   'status_exact': 'Precedential',\n",
       "   'suitNature': '',\n",
       "   'timestamp': '2024-09-18T11:56:24.071000-07:00',\n",
       "   'type': '020lead'}]}"
      ]
     },
     "execution_count": 60,
     "metadata": {},
     "output_type": "execute_result"
    }
   ],
   "source": [
    "pcv_json"
   ]
  },
  {
   "cell_type": "code",
   "execution_count": 50,
   "metadata": {},
   "outputs": [
    {
     "data": {
      "text/plain": [
       "20"
      ]
     },
     "execution_count": 50,
     "metadata": {},
     "output_type": "execute_result"
    }
   ],
   "source": [
    "pcv_json.keys()\n",
    "\n",
    "page_x_results = pcv_json['results'].copy()\n",
    "len(page_x_results)"
   ]
  },
  {
   "cell_type": "code",
   "execution_count": 55,
   "metadata": {},
   "outputs": [
    {
     "data": {
      "text/plain": [
       "'page=2'"
      ]
     },
     "execution_count": 55,
     "metadata": {},
     "output_type": "execute_result"
    }
   ],
   "source": [
    "pcv_json['next'].split(\"&\")[2]"
   ]
  },
  {
   "cell_type": "code",
   "execution_count": 56,
   "metadata": {},
   "outputs": [
    {
     "name": "stdout",
     "output_type": "stream",
     "text": [
      "page=2\n",
      "page=3\n",
      "page=4\n",
      "page=5\n",
      "page=6\n",
      "page=7\n",
      "page=8\n",
      "page=9\n",
      "page=10\n",
      "page=11\n",
      "page=12\n",
      "page=13\n",
      "page=14\n",
      "page=15\n",
      "page=16\n",
      "page=17\n",
      "page=18\n",
      "page=19\n",
      "page=20\n",
      "page=21\n",
      "page=22\n",
      "page=23\n",
      "page=24\n",
      "page=25\n",
      "page=26\n",
      "page=27\n",
      "page=28\n",
      "page=29\n",
      "page=30\n",
      "page=31\n",
      "page=32\n",
      "page=33\n",
      "page=34\n",
      "page=35\n",
      "page=36\n",
      "page=37\n",
      "page=38\n",
      "page=39\n",
      "page=40\n",
      "page=41\n",
      "page=42\n",
      "page=43\n",
      "page=44\n",
      "page=45\n",
      "page=46\n",
      "page=47\n",
      "page=48\n",
      "page=49\n",
      "page=50\n",
      "page=51\n",
      "page=52\n",
      "page=53\n",
      "page=54\n",
      "page=55\n",
      "page=56\n",
      "page=57\n",
      "page=58\n",
      "page=59\n",
      "page=60\n",
      "page=61\n",
      "page=62\n",
      "page=63\n",
      "page=64\n",
      "page=65\n",
      "page=66\n",
      "page=67\n",
      "page=68\n",
      "page=69\n",
      "page=70\n",
      "page=71\n",
      "page=72\n",
      "page=73\n",
      "page=74\n",
      "page=75\n",
      "page=76\n",
      "page=77\n",
      "page=78\n",
      "page=79\n",
      "page=80\n",
      "page=81\n",
      "page=82\n",
      "page=83\n",
      "page=84\n",
      "page=85\n",
      "page=86\n",
      "page=87\n",
      "page=88\n",
      "page=89\n",
      "page=90\n",
      "page=91\n",
      "page=92\n",
      "page=93\n",
      "page=94\n",
      "page=95\n",
      "page=96\n",
      "page=97\n",
      "page=98\n",
      "page=99\n",
      "page=100\n",
      "page=101\n",
      "page=102\n",
      "page=103\n",
      "page=104\n",
      "page=105\n",
      "page=106\n",
      "page=107\n",
      "page=108\n",
      "page=109\n",
      "page=110\n",
      "page=111\n",
      "page=112\n",
      "page=113\n",
      "page=114\n",
      "page=115\n",
      "page=116\n",
      "page=117\n",
      "page=118\n",
      "page=119\n",
      "page=120\n",
      "page=121\n",
      "page=122\n",
      "page=123\n",
      "page=124\n",
      "page=125\n",
      "page=126\n",
      "page=127\n",
      "page=128\n",
      "page=129\n",
      "page=130\n",
      "page=131\n",
      "page=132\n",
      "page=133\n",
      "page=134\n",
      "page=135\n",
      "page=136\n",
      "page=137\n",
      "page=138\n",
      "page=139\n",
      "page=140\n",
      "page=141\n",
      "page=142\n",
      "page=143\n",
      "page=144\n",
      "page=145\n"
     ]
    }
   ],
   "source": [
    "while pcv_json['next']:\n",
    "    print(pcv_json['next'].split(\"&\")[2])\n",
    "    url = pcv_json['next']\n",
    "    pcv_data = requests.get(url)\n",
    "    pcv_json = pcv_data.json()\n",
    "    page_copy = pcv_json['results'].copy()\n",
    "    page_x_results.extend(page_copy)"
   ]
  },
  {
   "cell_type": "code",
   "execution_count": 57,
   "metadata": {},
   "outputs": [
    {
     "data": {
      "text/plain": [
       "2885"
      ]
     },
     "execution_count": 57,
     "metadata": {},
     "output_type": "execute_result"
    }
   ],
   "source": [
    "len(page_x_results)"
   ]
  },
  {
   "cell_type": "code",
   "execution_count": 58,
   "metadata": {},
   "outputs": [
    {
     "data": {
      "text/plain": [
       "list"
      ]
     },
     "execution_count": 58,
     "metadata": {},
     "output_type": "execute_result"
    }
   ],
   "source": [
    "type(page_x_results)"
   ]
  },
  {
   "cell_type": "code",
   "execution_count": 59,
   "metadata": {},
   "outputs": [
    {
     "data": {
      "text/plain": [
       "dict"
      ]
     },
     "execution_count": 59,
     "metadata": {},
     "output_type": "execute_result"
    }
   ],
   "source": [
    "type(page_x_results[0])"
   ]
  },
  {
   "cell_type": "code",
   "execution_count": 61,
   "metadata": {},
   "outputs": [],
   "source": [
    "pcv_json['results'] = page_x_results"
   ]
  },
  {
   "cell_type": "code",
   "execution_count": 62,
   "metadata": {},
   "outputs": [
    {
     "data": {
      "text/plain": [
       "2885"
      ]
     },
     "execution_count": 62,
     "metadata": {},
     "output_type": "execute_result"
    }
   ],
   "source": [
    "len(pcv_json['results'])"
   ]
  },
  {
   "cell_type": "code",
   "execution_count": 63,
   "metadata": {},
   "outputs": [],
   "source": [
    "import pickle\n"
   ]
  },
  {
   "cell_type": "code",
   "execution_count": 64,
   "metadata": {},
   "outputs": [],
   "source": [
    "with open('pcv.pickle', 'wb') as handle:\n",
    "    pickle.dump(pcv_json, handle, pickle.HIGHEST_PROTOCOL)"
   ]
  },
  {
   "cell_type": "markdown",
   "metadata": {},
   "source": [
    "result of 'curl -X OPTIONS \"https://www.courtlistener.com/api/rest/v3/search/\"\n",
    "\n",
    "{\n",
    "\"name\":\"Search List\",\n",
    "\"description\":\"\",\n",
    "\"renders\":[\"application/json\",\"text/html\",\"application/xml\"],\n",
    "\"parses\":[\"application/json\",\"application/x-www-form-urlencoded\",\"multipart/form-data\",\"application/xml\"]\n",
    "}"
   ]
  },
  {
   "cell_type": "markdown",
   "metadata": {},
   "source": [
    "the query I used:\n",
    "\n",
    "curl -o pcv_13.json \"https://www.courtlistener.com/api/rest/v3/search/?q=%22pierc*%20corporate%20veil%22~50&type=o&order_by=score%20desc&stat_Precedential=on&filed_after=09%2F29%2F2013\""
   ]
  },
  {
   "cell_type": "code",
   "execution_count": 66,
   "metadata": {},
   "outputs": [],
   "source": [
    "import pandas as pd"
   ]
  },
  {
   "cell_type": "code",
   "execution_count": 71,
   "metadata": {},
   "outputs": [],
   "source": [
    "pcv_dict = pd.read_pickle('pcv.pickle')"
   ]
  },
  {
   "cell_type": "code",
   "execution_count": 72,
   "metadata": {},
   "outputs": [],
   "source": [
    "pcv_df = pd.DataFrame.from_dict(pcv_dict)"
   ]
  },
  {
   "cell_type": "code",
   "execution_count": 78,
   "metadata": {},
   "outputs": [
    {
     "data": {
      "text/plain": [
       "{'absolute_url': '/opinion/3192066/matter-of-agai-v-diontech-consulting-inc/',\n",
       " 'attorney': '',\n",
       " 'author_id': None,\n",
       " 'caseName': 'Matter of Agai v. Diontech Consulting, Inc.',\n",
       " 'caseNameShort': '',\n",
       " 'citation': ['138 A.D.3d 736', '29 N.Y.S.3d 441'],\n",
       " 'citeCount': 0,\n",
       " 'cites': None,\n",
       " 'cluster_id': 3192066,\n",
       " 'court': 'Appellate Division of the Supreme Court of the State of New York',\n",
       " 'court_citation_string': 'N.Y. App. Div.',\n",
       " 'court_exact': 'nyappdiv',\n",
       " 'court_id': 'nyappdiv',\n",
       " 'dateArgued': None,\n",
       " 'dateFiled': '2016-04-06T00:00:00-07:00',\n",
       " 'dateReargued': None,\n",
       " 'dateReargumentDenied': None,\n",
       " 'docketNumber': '2013-10303',\n",
       " 'docket_id': 3051409,\n",
       " 'download_url': 'http://www.courts.state.ny.us/reporter/3dseries/2016/2016_02646.htm',\n",
       " 'id': 3191961,\n",
       " 'joined_by_ids': None,\n",
       " 'judge': 'Mastro, Hall, Miller, Lasalle',\n",
       " 'lexisCite': None,\n",
       " 'local_path': None,\n",
       " 'neutralCite': None,\n",
       " 'non_participating_judge_ids': None,\n",
       " 'pagerank': None,\n",
       " 'panel_ids': None,\n",
       " 'per_curiam': None,\n",
       " 'scdb_id': '',\n",
       " 'sibling_ids': [3191961],\n",
       " 'snippet': 'judgments against them personally by <mark>piercing the corporate veil</mark> of Diontech Consulting, Inc., and denied&hellip;hereinafter together the appellants), by <mark>piercing the corporate veil</mark> of Diontech. The petitioners moved, among&hellip;against the appellants personally by <mark>piercing the corporate veil</mark> of Diontech, and the appellants\\n   \\n   &hellip;motion.\\n \\n\\n  Equity will intervene to <mark>pierce the corporate veil</mark> and permit the imposition of individual&hellip; 135, 141 [1993]). A party seeking to <mark>pierce the corporate veil</mark> must establish that (1) the owners exercised',\n",
       " 'source': 'CU',\n",
       " 'status': 'Precedential',\n",
       " 'status_exact': 'Precedential',\n",
       " 'suitNature': '',\n",
       " 'timestamp': '2024-03-02T01:50:49.761000-08:00',\n",
       " 'type': '010combined'}"
      ]
     },
     "execution_count": 78,
     "metadata": {},
     "output_type": "execute_result"
    }
   ],
   "source": [
    "pcv_df.results.head()[0]"
   ]
  },
  {
   "cell_type": "code",
   "execution_count": 101,
   "metadata": {},
   "outputs": [],
   "source": [
    "import matplotlib\n",
    "import matplotlib.pyplot as plt\n",
    "%matplotlib inline"
   ]
  },
  {
   "cell_type": "code",
   "execution_count": 115,
   "metadata": {},
   "outputs": [],
   "source": [
    "cites_list = []"
   ]
  },
  {
   "cell_type": "code",
   "execution_count": 116,
   "metadata": {},
   "outputs": [],
   "source": [
    "for row in pcv_df.results:\n",
    "    if row['cites']:\n",
    "        cites_list.append(len(row['cites']))\n",
    "    else:\n",
    "        cites_list.append(0)"
   ]
  },
  {
   "cell_type": "code",
   "execution_count": 117,
   "metadata": {},
   "outputs": [
    {
     "data": {
      "text/plain": [
       "2885"
      ]
     },
     "execution_count": 117,
     "metadata": {},
     "output_type": "execute_result"
    }
   ],
   "source": [
    "len(cites_list)"
   ]
  },
  {
   "cell_type": "code",
   "execution_count": 118,
   "metadata": {},
   "outputs": [],
   "source": [
    "from collections import Counter"
   ]
  },
  {
   "cell_type": "code",
   "execution_count": 144,
   "metadata": {},
   "outputs": [
    {
     "data": {
      "text/plain": [
       "[0, 4, 4, 11, 0, 0, 3, 0, 0, 0]"
      ]
     },
     "execution_count": 144,
     "metadata": {},
     "output_type": "execute_result"
    }
   ],
   "source": [
    "cites_list[0:10]"
   ]
  },
  {
   "cell_type": "code",
   "execution_count": 141,
   "metadata": {},
   "outputs": [],
   "source": [
    "cites_df = pd.DataFrame(cites_list, columns=['cites'])"
   ]
  },
  {
   "cell_type": "code",
   "execution_count": 142,
   "metadata": {
    "scrolled": true
   },
   "outputs": [
    {
     "data": {
      "text/html": [
       "<div>\n",
       "<style scoped>\n",
       "    .dataframe tbody tr th:only-of-type {\n",
       "        vertical-align: middle;\n",
       "    }\n",
       "\n",
       "    .dataframe tbody tr th {\n",
       "        vertical-align: top;\n",
       "    }\n",
       "\n",
       "    .dataframe thead th {\n",
       "        text-align: right;\n",
       "    }\n",
       "</style>\n",
       "<table border=\"1\" class=\"dataframe\">\n",
       "  <thead>\n",
       "    <tr style=\"text-align: right;\">\n",
       "      <th></th>\n",
       "      <th>cites</th>\n",
       "    </tr>\n",
       "  </thead>\n",
       "  <tbody>\n",
       "    <tr>\n",
       "      <th>count</th>\n",
       "      <td>2885.000000</td>\n",
       "    </tr>\n",
       "    <tr>\n",
       "      <th>mean</th>\n",
       "      <td>10.802426</td>\n",
       "    </tr>\n",
       "    <tr>\n",
       "      <th>std</th>\n",
       "      <td>41.979923</td>\n",
       "    </tr>\n",
       "    <tr>\n",
       "      <th>min</th>\n",
       "      <td>0.000000</td>\n",
       "    </tr>\n",
       "    <tr>\n",
       "      <th>25%</th>\n",
       "      <td>0.000000</td>\n",
       "    </tr>\n",
       "    <tr>\n",
       "      <th>50%</th>\n",
       "      <td>3.000000</td>\n",
       "    </tr>\n",
       "    <tr>\n",
       "      <th>75%</th>\n",
       "      <td>13.000000</td>\n",
       "    </tr>\n",
       "    <tr>\n",
       "      <th>max</th>\n",
       "      <td>963.000000</td>\n",
       "    </tr>\n",
       "  </tbody>\n",
       "</table>\n",
       "</div>"
      ],
      "text/plain": [
       "             cites\n",
       "count  2885.000000\n",
       "mean     10.802426\n",
       "std      41.979923\n",
       "min       0.000000\n",
       "25%       0.000000\n",
       "50%       3.000000\n",
       "75%      13.000000\n",
       "max     963.000000"
      ]
     },
     "execution_count": 142,
     "metadata": {},
     "output_type": "execute_result"
    }
   ],
   "source": [
    "# this describe the distribution of 'cites' across the PCV cases\n",
    "cites_df.describe()"
   ]
  },
  {
   "cell_type": "code",
   "execution_count": 120,
   "metadata": {},
   "outputs": [],
   "source": [
    "num_cites = Counter(cites_list)"
   ]
  },
  {
   "cell_type": "code",
   "execution_count": 122,
   "metadata": {},
   "outputs": [],
   "source": [
    "num_cites_dict = dict(num_cites)\n",
    "\n",
    "res = {key: val for key, val in sorted(num_cites_dict.items(), key = lambda ele: ele[0])}"
   ]
  },
  {
   "cell_type": "code",
   "execution_count": 131,
   "metadata": {},
   "outputs": [],
   "source": [
    "cites = pd.DataFrame.from_dict(res, orient='index')"
   ]
  },
  {
   "cell_type": "code",
   "execution_count": 132,
   "metadata": {},
   "outputs": [
    {
     "data": {
      "text/html": [
       "<div>\n",
       "<style scoped>\n",
       "    .dataframe tbody tr th:only-of-type {\n",
       "        vertical-align: middle;\n",
       "    }\n",
       "\n",
       "    .dataframe tbody tr th {\n",
       "        vertical-align: top;\n",
       "    }\n",
       "\n",
       "    .dataframe thead th {\n",
       "        text-align: right;\n",
       "    }\n",
       "</style>\n",
       "<table border=\"1\" class=\"dataframe\">\n",
       "  <thead>\n",
       "    <tr style=\"text-align: right;\">\n",
       "      <th></th>\n",
       "      <th>0</th>\n",
       "    </tr>\n",
       "  </thead>\n",
       "  <tbody>\n",
       "    <tr>\n",
       "      <th>0</th>\n",
       "      <td>1222</td>\n",
       "    </tr>\n",
       "    <tr>\n",
       "      <th>1</th>\n",
       "      <td>94</td>\n",
       "    </tr>\n",
       "    <tr>\n",
       "      <th>2</th>\n",
       "      <td>70</td>\n",
       "    </tr>\n",
       "    <tr>\n",
       "      <th>3</th>\n",
       "      <td>143</td>\n",
       "    </tr>\n",
       "    <tr>\n",
       "      <th>4</th>\n",
       "      <td>82</td>\n",
       "    </tr>\n",
       "  </tbody>\n",
       "</table>\n",
       "</div>"
      ],
      "text/plain": [
       "      0\n",
       "0  1222\n",
       "1    94\n",
       "2    70\n",
       "3   143\n",
       "4    82"
      ]
     },
     "execution_count": 132,
     "metadata": {},
     "output_type": "execute_result"
    }
   ],
   "source": [
    "cites.head()"
   ]
  },
  {
   "cell_type": "code",
   "execution_count": 133,
   "metadata": {},
   "outputs": [
    {
     "data": {
      "text/plain": [
       "<matplotlib.axes._subplots.AxesSubplot at 0x7f1809ceef28>"
      ]
     },
     "execution_count": 133,
     "metadata": {},
     "output_type": "execute_result"
    },
    {
     "data": {
      "image/png": "[encoded data removed]",
      "text/plain": [
       "<Figure size 432x288 with 1 Axes>"
      ]
     },
     "metadata": {
      "needs_background": "light"
     },
     "output_type": "display_data"
    }
   ],
   "source": [
    "cites.plot(kind='bar')"
   ]
  },
  {
   "cell_type": "markdown",
   "metadata": {},
   "source": [
    "See the \"next\" and the page # to determine which page # you're on, and how many results you still have to go -- use the \"count\" field to double-check. "
   ]
  }
 ],
 "metadata": {
  "kernelspec": {
   "display_name": "Python 3",
   "language": "python",
   "name": "python3"
  },
  "language_info": {
   "codemirror_mode": {
    "name": "ipython",
    "version": 3
   },
   "file_extension": ".py",
   "mimetype": "text/x-python",
   "name": "python",
   "nbconvert_exporter": "python",
   "pygments_lexer": "ipython3",
   "version": "3.7.3"
  }
 },
 "nbformat": 4,
 "nbformat_minor": 2
}
